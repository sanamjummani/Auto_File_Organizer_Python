{
 "cells": [
  {
   "cell_type": "markdown",
   "id": "cda04864",
   "metadata": {},
   "source": [
    "# Importing required Libraries"
   ]
  },
  {
   "cell_type": "code",
   "execution_count": 1,
   "id": "687250eb",
   "metadata": {},
   "outputs": [],
   "source": [
    "import os,shutil"
   ]
  },
  {
   "cell_type": "markdown",
   "id": "b02dd179",
   "metadata": {},
   "source": [
    "# Defining Variables"
   ]
  },
  {
   "cell_type": "code",
   "execution_count": 2,
   "id": "8fe141d0",
   "metadata": {},
   "outputs": [],
   "source": [
    "path = \"/Users/sanajummani/Desktop/Project_sample/\""
   ]
  },
  {
   "cell_type": "code",
   "execution_count": 3,
   "id": "e4bdb081",
   "metadata": {},
   "outputs": [],
   "source": [
    "folder_name = ['csv files','image files','pdf files','video files']"
   ]
  },
  {
   "cell_type": "code",
   "execution_count": 5,
   "id": "92e80267",
   "metadata": {},
   "outputs": [
    {
     "data": {
      "text/plain": [
       "['SQL Commands_ The Complete List (w_ Examples) – Dataquest copy.pdf',\n",
       " 'ReactionTypes_Cleaned copy.csv',\n",
       " '.DS_Store',\n",
       " '3 copy.jpg',\n",
       " 'sap sd linkedin doc copy.pdf',\n",
       " '4 copy.jpg',\n",
       " '1 copy.jpg',\n",
       " 'aqua copy.mp4']"
      ]
     },
     "execution_count": 5,
     "metadata": {},
     "output_type": "execute_result"
    }
   ],
   "source": [
    "file_name = os.listdir(path)\n",
    "file_name"
   ]
  },
  {
   "cell_type": "markdown",
   "id": "b46c0e06",
   "metadata": {},
   "source": [
    "# Code for files organizer"
   ]
  },
  {
   "cell_type": "code",
   "execution_count": 6,
   "id": "35370b8d",
   "metadata": {},
   "outputs": [
    {
     "name": "stdout",
     "output_type": "stream",
     "text": [
      "No arrangement needed further!\n"
     ]
    }
   ],
   "source": [
    "for folder in folder_name:\n",
    "    if not os.path.exists(path + folder):\n",
    "        os.makedirs(path + folder)\n",
    "        \n",
    "for file in file_name:\n",
    "    if '.csv' in file and not os.path.exists(path + 'csv files/' + file):\n",
    "        shutil.move(path + file , path + 'csv files/' + file )\n",
    "    elif '.jpg' in file and not os.path.exists(path + 'image files/' + file):\n",
    "        shutil.move(path + file , path + 'image files/' + file )\n",
    "    elif '.pdf' in file and not os.path.exists(path + 'pdf files/' + file):\n",
    "        shutil.move(path + file , path + 'pdf files/' + file )\n",
    "    elif '.mp4' in file and not os.path.exists(path + 'video files/' + file):\n",
    "        shutil.move(path + file , path + 'video files/' + file )\n",
    "else:\n",
    "    print(\"No arrangement needed further!\")"
   ]
  },
  {
   "cell_type": "code",
   "execution_count": null,
   "id": "6bfebc23",
   "metadata": {},
   "outputs": [],
   "source": []
  }
 ],
 "metadata": {
  "kernelspec": {
   "display_name": "Python 3 (ipykernel)",
   "language": "python",
   "name": "python3"
  },
  "language_info": {
   "codemirror_mode": {
    "name": "ipython",
    "version": 3
   },
   "file_extension": ".py",
   "mimetype": "text/x-python",
   "name": "python",
   "nbconvert_exporter": "python",
   "pygments_lexer": "ipython3",
   "version": "3.11.5"
  }
 },
 "nbformat": 4,
 "nbformat_minor": 5
}
